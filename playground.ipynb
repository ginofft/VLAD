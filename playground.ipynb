{
 "cells": [
  {
   "cell_type": "code",
   "execution_count": 1,
   "metadata": {},
   "outputs": [],
   "source": [
    "import numpy as np\n",
    "import cv2 as cv\n",
    "\n",
    "img = cv.imread('data/00350405_2611802704.jpg')\n",
    "gray = cv.cvtColor(img, cv.COLOR_BGR2GRAY)\n",
    "sift = cv.SIFT_create()\n",
    "kp = sift.detect(gray, None)\n",
    "img = cv.drawKeypoints(gray, kp, img)\n"
   ]
  },
  {
   "cell_type": "code",
   "execution_count": 6,
   "metadata": {},
   "outputs": [],
   "source": [
    "from pathlib import Path\n",
    "import cv2\n",
    "\n",
    "def read_image(path: Path, grayscale=False):\n",
    "    \"\"\"This function read an image from a path.\n",
    "    The read is perform using opencv.\n",
    "    \"\"\"\n",
    "    if grayscale:\n",
    "        mode = cv2.IMREAD_GRAYSCALE\n",
    "    else:\n",
    "        mode = cv2.IMREAD_COLOR\n",
    "    image = cv2.imread(str(path), mode)\n",
    "    if image is None:\n",
    "        raise ValueError(f'Cannot read image {path}.')\n",
    "    if not grayscale and len(image.shape) == 3:\n",
    "        image = image[:, :, ::-1]  # BGR to RGB\n",
    "    return image"
   ]
  },
  {
   "cell_type": "code",
   "execution_count": 61,
   "metadata": {},
   "outputs": [],
   "source": [
    "from types import SimpleNamespace\n",
    "from pathlib import Path\n",
    "\n",
    "class ImageSIFTDataset():\n",
    "    default_conf = {\n",
    "      'globs': ['*.jpg', '*.png', '*.jpeg', '*.JPG', '*.PNG'],\n",
    "      'grayscale': False,\n",
    "      'interpolation': 'cv2_area',\n",
    "      'resize': (1024,1024)\n",
    "    }\n",
    "\n",
    "    def __init__(self, root, conf=default_conf):\n",
    "        self.conf = conf = SimpleNamespace(**{**self.default_conf, **conf})\n",
    "        self.root = root\n",
    "        paths = []\n",
    "        for g in self.conf.globs:\n",
    "            paths += list(Path(root).glob('**/'+g))\n",
    "        if len(paths) == 0:\n",
    "            raise ValueError(f'Could not find any image in {root}.')\n",
    "        paths = sorted(list(set(paths)))\n",
    "        self.names = [i.relative_to(root).as_posix() for i in paths]\n",
    "        self.sift = cv2.SIFT_create()\n",
    "    \n",
    "    def __getitem__(self, idx):\n",
    "        i = self._read_image(self.root/Path(self.names[idx]))\n",
    "        feat = self._compute_sift(i)\n",
    "        return {\n",
    "            'image' : i,\n",
    "            'descriptor': feat\n",
    "        }\n",
    "    \n",
    "    def __len__(self):\n",
    "        return len(self.names)\n",
    "    \n",
    "    def _compute_sift(self, i):\n",
    "        i = cv2.resize(i, self.conf.resize, interpolation=self._get_interpolation())\n",
    "        kp, des = self.sift.detectAndCompute(i, None)\n",
    "        return des\n",
    "    \n",
    "    def _read_image(self, path: Path):\n",
    "        \"\"\"This function read an image from a path.\n",
    "        The read is perform using opencv.\n",
    "        \"\"\"\n",
    "        if self.conf.grayscale:\n",
    "            mode = cv2.IMREAD_GRAYSCALE\n",
    "        else:\n",
    "            mode = cv2.IMREAD_COLOR_RGB\n",
    "        image = cv2.imread(str(path), mode)\n",
    "        if image is None:\n",
    "            raise ValueError(f'Cannot read image {path}.')\n",
    "        return image\n",
    "    \n",
    "    def _get_interpolation(self):\n",
    "        \"\"\"Return the correct interpolation method based on the config.\"\"\"\n",
    "        if self.conf.interpolation == 'cv2_area':\n",
    "            return cv2.INTER_AREA\n",
    "        elif self.conf.interpolation == 'cv2_linear':\n",
    "            return cv2.INTER_LINEAR\n",
    "        elif self.conf.interpolation == 'cv2_cubic':\n",
    "            return cv2.INTER_CUBIC\n",
    "        else:\n",
    "            raise ValueError(f\"Unknown interpolation method: {self.conf.interpolation}\")"
   ]
  },
  {
   "cell_type": "code",
   "execution_count": null,
   "metadata": {},
   "outputs": [],
   "source": [
    "class vlad:\n",
    "    def __init__(self, n_vocabs = 64, d = 128):\n",
    "        self.n_vocabs = n_vocabs\n",
    "        self.d = d\n",
    "        self.n_vocabs = None\n",
    "        self.centers = None"
   ]
  },
  {
   "cell_type": "markdown",
   "metadata": {},
   "source": [
    "# Testing FAISS API"
   ]
  },
  {
   "cell_type": "code",
   "execution_count": 68,
   "metadata": {},
   "outputs": [],
   "source": [
    "import numpy as np\n",
    "d = 64                           # dimension\n",
    "nb = 100000                      # database size\n",
    "nq = 10000                       # nb of queries\n",
    "np.random.seed(1234)             # make reproducible\n",
    "xb = np.random.random((nb, d)).astype('float32')\n",
    "xb[:, 0] += np.arange(nb) / 1000.\n",
    "xq = np.random.random((nq, d)).astype('float32')\n",
    "xq[:, 0] += np.arange(nq) / 1000."
   ]
  },
  {
   "cell_type": "code",
   "execution_count": 69,
   "metadata": {},
   "outputs": [
    {
     "name": "stdout",
     "output_type": "stream",
     "text": [
      "True\n",
      "100000\n"
     ]
    }
   ],
   "source": [
    "import faiss                   # make faiss available\n",
    "index = faiss.IndexFlatL2(d)   # build the index\n",
    "print(index.is_trained)\n",
    "index.add(xb)                  # add vectors to the index\n",
    "print(index.ntotal)"
   ]
  },
  {
   "cell_type": "code",
   "execution_count": 74,
   "metadata": {},
   "outputs": [
    {
     "data": {
      "text/plain": [
       "['__class__',\n",
       " '__delattr__',\n",
       " '__delete__',\n",
       " '__dir__',\n",
       " '__doc__',\n",
       " '__eq__',\n",
       " '__format__',\n",
       " '__ge__',\n",
       " '__get__',\n",
       " '__getattribute__',\n",
       " '__getstate__',\n",
       " '__gt__',\n",
       " '__hash__',\n",
       " '__init__',\n",
       " '__init_subclass__',\n",
       " '__isabstractmethod__',\n",
       " '__le__',\n",
       " '__lt__',\n",
       " '__ne__',\n",
       " '__new__',\n",
       " '__reduce__',\n",
       " '__reduce_ex__',\n",
       " '__repr__',\n",
       " '__set__',\n",
       " '__set_name__',\n",
       " '__setattr__',\n",
       " '__sizeof__',\n",
       " '__str__',\n",
       " '__subclasshook__',\n",
       " 'deleter',\n",
       " 'fdel',\n",
       " 'fget',\n",
       " 'fset',\n",
       " 'getter',\n",
       " 'setter']"
      ]
     },
     "execution_count": 74,
     "metadata": {},
     "output_type": "execute_result"
    }
   ],
   "source": [
    "faiss.Clustering."
   ]
  },
  {
   "cell_type": "markdown",
   "metadata": {},
   "source": [
    "# Testing OpenCV API"
   ]
  },
  {
   "cell_type": "code",
   "execution_count": 28,
   "metadata": {},
   "outputs": [],
   "source": [
    "sift = cv.SIFT_create()\n",
    "\n",
    "test_path = 'data/01065157_3875793450.jpg'\n",
    "\n",
    "test_img_bgr = cv.imread(test_path, cv.IMREAD_COLOR_BGR)\n",
    "test_img_gray = cv.imread(test_path, cv.IMREAD_GRAYSCALE)\n",
    "test_img_rgb = cv.imread(test_path, cv.IMREAD_COLOR_RGB)\n",
    "\n",
    "_, test_sift_bgr = sift.detectAndCompute(test_img_bgr, None)\n",
    "_, test_sift_gray = sift.detectAndCompute(test_img_gray, None)\n",
    "_, test_sift_rgb = sift.detectAndCompute(test_img_rgb, None)"
   ]
  },
  {
   "cell_type": "code",
   "execution_count": 64,
   "metadata": {},
   "outputs": [
    {
     "data": {
      "text/plain": [
       "array([[ 0.,  0.,  7., ...,  2., 14., 32.],\n",
       "       [ 4., 28., 71., ...,  2., 13., 30.],\n",
       "       [ 4.,  1.,  0., ...,  1.,  6., 34.],\n",
       "       ...,\n",
       "       [ 4., 25., 40., ...,  0.,  0., 12.],\n",
       "       [33.,  3.,  4., ...,  0.,  0.,  0.],\n",
       "       [22., 12., 17., ...,  2.,  4., 11.]],\n",
       "      shape=(20, 128), dtype=float32)"
      ]
     },
     "execution_count": 64,
     "metadata": {},
     "output_type": "execute_result"
    }
   ],
   "source": [
    "test_sift_bgr[0:20]"
   ]
  },
  {
   "cell_type": "code",
   "execution_count": 65,
   "metadata": {},
   "outputs": [
    {
     "data": {
      "text/plain": [
       "array([[ 0.,  0.,  7., ...,  2., 14., 32.],\n",
       "       [ 4., 28., 71., ...,  2., 13., 30.],\n",
       "       [ 4.,  1.,  0., ...,  1.,  6., 34.],\n",
       "       ...,\n",
       "       [ 4., 25., 40., ...,  0.,  0., 12.],\n",
       "       [33.,  3.,  4., ...,  0.,  0.,  0.],\n",
       "       [22., 12., 17., ...,  2.,  4., 11.]],\n",
       "      shape=(20, 128), dtype=float32)"
      ]
     },
     "execution_count": 65,
     "metadata": {},
     "output_type": "execute_result"
    }
   ],
   "source": [
    "test_sift_gray[0:20]"
   ]
  },
  {
   "cell_type": "code",
   "execution_count": 67,
   "metadata": {},
   "outputs": [
    {
     "data": {
      "text/plain": [
       "array([[ 0.,  0.,  8., ...,  2., 14., 30.],\n",
       "       [ 2.,  0.,  0., ...,  0.,  4., 27.],\n",
       "       [ 0.,  1.,  7., ...,  0.,  0.,  1.],\n",
       "       ...,\n",
       "       [ 5., 23., 40., ...,  0.,  0., 11.],\n",
       "       [34.,  3.,  4., ...,  0.,  0.,  0.],\n",
       "       [17., 10., 20., ...,  2.,  3., 16.]],\n",
       "      shape=(20, 128), dtype=float32)"
      ]
     },
     "execution_count": 67,
     "metadata": {},
     "output_type": "execute_result"
    }
   ],
   "source": [
    "test_sift_rgb[0:20]"
   ]
  },
  {
   "cell_type": "markdown",
   "metadata": {},
   "source": [
    "The SIFT features generated by opencv's API doesnt differ much no matter which type of image use, just make sure your file are all the same type of image"
   ]
  }
 ],
 "metadata": {
  "kernelspec": {
   "display_name": ".venv",
   "language": "python",
   "name": "python3"
  },
  "language_info": {
   "codemirror_mode": {
    "name": "ipython",
    "version": 3
   },
   "file_extension": ".py",
   "mimetype": "text/x-python",
   "name": "python",
   "nbconvert_exporter": "python",
   "pygments_lexer": "ipython3",
   "version": "3.12.5"
  }
 },
 "nbformat": 4,
 "nbformat_minor": 2
}
